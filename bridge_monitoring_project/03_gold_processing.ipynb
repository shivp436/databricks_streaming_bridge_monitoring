{
 "cells": [
  {
   "cell_type": "code",
   "execution_count": 0,
   "metadata": {
    "application/vnd.databricks.v1+cell": {
     "cellMetadata": {},
     "inputWidgets": {},
     "nuid": "0c14f9d0-947a-4203-8d70-7f60451f581c",
     "showTitle": false,
     "tableResultSettingsMap": {},
     "title": ""
    }
   },
   "outputs": [],
   "source": [
    "import dlt\n",
    "from pyspark.sql.functions import col, avg, max, window, round"
   ]
  },
  {
   "cell_type": "code",
   "execution_count": 0,
   "metadata": {
    "application/vnd.databricks.v1+cell": {
     "cellMetadata": {},
     "inputWidgets": {},
     "nuid": "8432ee2c-9a02-4e44-8134-79362b2816c2",
     "showTitle": false,
     "tableResultSettingsMap": {},
     "title": ""
    }
   },
   "outputs": [],
   "source": [
    "@dlt.table(name=\"03_gold.bridge_metrics\", comment=\"10-min avg temperature, max vibration, max titl per bridge with window start/end\")\n",
    "def gold_bridge_metrics():\n",
    "    # Apply a 2-min watermark to bound late data for stateful ops\n",
    "    # Waits for 2-mins after window end - just in case a file within the window is late\n",
    "    temp = (\n",
    "        dlt.readStream(\"02_silver.bridge_temperature\")\n",
    "            .withWatermark(\"event_time\", \"2 minutes\")\n",
    "    )\n",
    "    vibration = (\n",
    "        dlt.readStream(\"02_silver.bridge_vibration\")\n",
    "            .withWatermark(\"event_time\", \"2 minutes\")\n",
    "    )\n",
    "    tilt = (\n",
    "        dlt.readStream(\"02_silver.bridge_tilt\")\n",
    "            .withWatermark(\"event_time\", \"2 minutes\")\n",
    "    )\n",
    "\n",
    "    # Compute 10-minute tumbling average temperature, retaining metadata\n",
    "    temp_agg = (\n",
    "        temp.groupby(\n",
    "            window(col(\"event_time\"), \"10 minutes\"),\n",
    "            col(\"bridge_id\")\n",
    "        )\n",
    "        .agg(\n",
    "            round(avg(col(\"temperature\")), 2).alias(\"avg_temperature\")\n",
    "        )\n",
    "        .select(\n",
    "            col(\"bridge_id\"),\n",
    "            col(\"window.start\").alias(\"window_start\"),\n",
    "            col(\"window.end\").alias(\"window_end\"),\n",
    "            col(\"avg_temperature\")\n",
    "        )\n",
    "    )\n",
    "\n",
    "    # Compute 10-minute tumbling max vibration\n",
    "    vibration_agg = (\n",
    "        vibration.groupby(\n",
    "            window(col(\"event_time\"), \"10 minutes\"),\n",
    "            col(\"bridge_id\")\n",
    "        )\n",
    "        .agg(\n",
    "            max(col(\"vibration\")).alias(\"max_vibration\")\n",
    "        )\n",
    "        .select(\n",
    "            col(\"bridge_id\"),\n",
    "            col(\"window.start\").alias(\"window_start\"),\n",
    "            col(\"window.end\").alias(\"window_end\"),\n",
    "            col(\"max_vibration\")\n",
    "        )\n",
    "    )\n",
    "\n",
    "    # Compute 10-minute tumbling max tilt\n",
    "    tilt_agg = (\n",
    "        tilt.groupby(\n",
    "            window(col(\"event_time\"), \"10 minutes\"),\n",
    "            col(\"bridge_id\")\n",
    "        )\n",
    "        .agg(\n",
    "            max(col(\"tilt_angle\")).alias(\"max_tilt_angle\")\n",
    "        )\n",
    "        .select(\n",
    "            col(\"bridge_id\"),\n",
    "            col(\"window.start\").alias(\"window_start\"),\n",
    "            col(\"window.end\").alias(\"window_end\"),\n",
    "            col(\"max_tilt_angle\")\n",
    "        )\n",
    "    )\n",
    "\n",
    "    return (\n",
    "        temp_agg.alias(\"t\")\n",
    "            .join(\n",
    "                vibration_agg.alias(\"v\"),\n",
    "                on=[\"bridge_id\", \"window_start\", \"window_end\"],\n",
    "                how=\"inner\"\n",
    "            )\n",
    "            .join(\n",
    "                tilt_agg.alias(\"ti\"),\n",
    "                on=[\"bridge_id\", \"window_start\", \"window_end\"],\n",
    "                how=\"inner\"\n",
    "            )\n",
    "            .join(\n",
    "                dlt.read(\"02_silver.bridge_metadata\").alias(\"m\"),\n",
    "                on=\"bridge_id\",\n",
    "                how=\"left\"\n",
    "            )\n",
    "            .select(\n",
    "                col(\"bridge_id\"),\n",
    "                col(\"m.name\"),\n",
    "                col(\"m.location\"),\n",
    "                col(\"window_start\"),\n",
    "                col(\"window_end\"),\n",
    "                col(\"avg_temperature\"),\n",
    "                col(\"max_vibration\"),\n",
    "                col(\"max_tilt_angle\")\n",
    "            )\n",
    "    )"
   ]
  }
 ],
 "metadata": {
  "application/vnd.databricks.v1+notebook": {
   "computePreferences": null,
   "dashboards": [],
   "environmentMetadata": {
    "base_environment": "",
    "environment_version": "3"
   },
   "inputWidgetPreferences": null,
   "language": "python",
   "notebookMetadata": {
    "pythonIndentUnit": 4
   },
   "notebookName": "03_gold_processing",
   "widgets": {}
  },
  "language_info": {
   "name": "python"
  }
 },
 "nbformat": 4,
 "nbformat_minor": 0
}
