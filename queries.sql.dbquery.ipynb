{
 "cells": [
  {
   "cell_type": "code",
   "execution_count": 0,
   "metadata": {
    "application/vnd.databricks.v1+cell": {
     "cellMetadata": {},
     "inputWidgets": {},
     "nuid": "54004c4b-7a37-4e04-b25b-1eaae6c0a0b7",
     "showTitle": false,
     "tableResultSettingsMap": {},
     "title": ""
    }
   },
   "outputs": [],
   "source": [
    "-- landing\n",
    "SELECT * FROM DELTA.`/Volumes/bridge_monitoring/00_landing/streaming/bridge_temperature/`;\n",
    "SELECT * FROM DELTA.`/Volumes/bridge_monitoring/00_landing/streaming/bridge_tilt/`;\n",
    "SELECT * FROM DELTA.`/Volumes/bridge_monitoring/00_landing/streaming/bridge_vibration/`;\n",
    "\n",
    "--bronze\n",
    "select * from bridge_monitoring.`01_bronze`.bridge_temperature order by event_time desc;\n",
    "select * from bridge_monitoring.`01_bronze`.bridge_tilt order by event_time desc;\n",
    "select * from bridge_monitoring.`01_bronze`.bridge_vibration order by event_time desc;\n",
    "\n",
    "--silver\n",
    "select * from bridge_monitoring.`02_silver`.bridge_temperature order by event_time desc;\n",
    "select * from bridge_monitoring.`02_silver`.bridge_tilt order by event_time desc;\n",
    "select * from bridge_monitoring.`02_silver`.bridge_vibration order by event_time desc;\n",
    "\n",
    "--gold\n",
    "select * from bridge_monitoring.`03_gold`.bridge_metrics order by window_start desc;"
   ]
  }
 ],
 "metadata": {
  "application/vnd.databricks.v1+notebook": {
   "computePreferences": null,
   "dashboards": [],
   "environmentMetadata": null,
   "inputWidgetPreferences": null,
   "language": "sql",
   "notebookMetadata": {
    "sqlQueryOptions": {
     "applyAutoLimit": true,
     "catalog": "adb_trial_premium",
     "schema": "default"
    }
   },
   "notebookName": "queries.sql.dbquery.ipynb",
   "widgets": {}
  },
  "language_info": {
   "name": "sql"
  }
 },
 "nbformat": 4,
 "nbformat_minor": 0
}
