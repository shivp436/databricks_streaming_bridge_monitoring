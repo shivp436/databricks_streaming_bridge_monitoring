{
 "cells": [
  {
   "cell_type": "markdown",
   "metadata": {
    "application/vnd.databricks.v1+cell": {
     "cellMetadata": {},
     "inputWidgets": {},
     "nuid": "ef3488c5-15f8-4c53-9bbb-3f375187c36a",
     "showTitle": false,
     "tableResultSettingsMap": {},
     "title": ""
    }
   },
   "source": [
    "### Static Metadata + enrichment of each stream with bridge_metadata"
   ]
  },
  {
   "cell_type": "code",
   "execution_count": 0,
   "metadata": {
    "application/vnd.databricks.v1+cell": {
     "cellMetadata": {
      "byteLimit": 2048000,
      "rowLimit": 10000
     },
     "inputWidgets": {},
     "nuid": "31951a45-405b-446d-9c65-dcc8c4ed3084",
     "showTitle": false,
     "tableResultSettingsMap": {},
     "title": ""
    }
   },
   "outputs": [],
   "source": [
    "import dlt\n",
    "from pyspark.sql.functions import col"
   ]
  },
  {
   "cell_type": "markdown",
   "metadata": {
    "application/vnd.databricks.v1+cell": {
     "cellMetadata": {},
     "inputWidgets": {},
     "nuid": "57f1ba6b-7eb7-4fdd-b15c-093abc60d0d8",
     "showTitle": false,
     "tableResultSettingsMap": {},
     "title": ""
    }
   },
   "source": [
    "### Bridge Metadata (Static Table)"
   ]
  },
  {
   "cell_type": "code",
   "execution_count": 0,
   "metadata": {
    "application/vnd.databricks.v1+cell": {
     "cellMetadata": {},
     "inputWidgets": {},
     "nuid": "7841a94e-b8a5-4c80-92ad-af5e1d44d0fc",
     "showTitle": false,
     "tableResultSettingsMap": {},
     "title": ""
    }
   },
   "outputs": [],
   "source": [
    "@dlt.table(name=\"02_silver.bridge_metadata\", comment=\"Static metadata for five major European bridges\")\n",
    "def bridge_metadata():\n",
    "    bridges = [\n",
    "        {\"bridge_id\":1, \"name\":\"Millau Viaduct\", \"length_m\":2460,\"main_span_m\":342, \"height_m\":343, \"location\":\"Tarn Valley, France\", \"type\":\"Cable-stayed viaduct\", \"opened_year\": 2004},\n",
    "        {\"bridge_id\":2, \"name\":\"Vasco da Gama Bridge\", \"length_m\":17280, \"main_span_m\":420, \"height_m\":155, \"location\":\"Lisbon, Portugal\", \"type\":\"Box girder bridge\", \"opened_year\": 1998},\n",
    "        {\"bridge_id\":3, \"name\":\"Øresund Bridge\", \"length_m\":7845, \"main_span_m\":490, \"height_m\":204, \"location\":\"Copenhagen–Malmö, Denmark/Sweden\", \"type\":\"Cable-stayed & tunnel\",\"opened_year\":2000},\n",
    "        {\"bridge_id\":4, \"name\":\"15 July Martyrs Bridge\", \"length_m\": 1560, \"main_span_m\":1074, \"height_m\":165, \"location\":\"Istanbul, Turkey\", \"type\":\"Suspension bridge\", \"opened_year\": 1973},\n",
    "        {\"bridge_id\":5, \"name\":\"Forth Bridge\", \"length_m\":2467, \"main_span_m\":521, \"height_m\":110, \"location\":\"Firth of Forth, Scotland\", \"type\":\"Cantilever railway bridge\",\"opened_year\":1890},\n",
    "    ]\n",
    "    return spark.createDataFrame(bridges)"
   ]
  },
  {
   "cell_type": "markdown",
   "metadata": {
    "application/vnd.databricks.v1+cell": {
     "cellMetadata": {},
     "inputWidgets": {},
     "nuid": "88eed5fa-1050-4d18-927e-d593bfd42528",
     "showTitle": false,
     "tableResultSettingsMap": {},
     "title": ""
    }
   },
   "source": [
    "### Bridge Temperature (Streaming Table)"
   ]
  },
  {
   "cell_type": "code",
   "execution_count": 0,
   "metadata": {
    "application/vnd.databricks.v1+cell": {
     "cellMetadata": {},
     "inputWidgets": {},
     "nuid": "2bed4744-52c8-4ca9-84e2-6d9abf30a41c",
     "showTitle": false,
     "tableResultSettingsMap": {},
     "title": ""
    }
   },
   "outputs": [],
   "source": [
    "@dlt.table(name=\"02_silver.bridge_temperature\", comment=\"Temperature cleaned\")\n",
    "@dlt.expect_or_drop(\"valid_event_time\", \"event_time IS NOT NULL\")\n",
    "@dlt.expect(\"valid_temperature_range\", \"temperature BETWEEN -20 AND 60\")\n",
    "def silver_bridge_temperature():\n",
    "    return (\n",
    "        dlt.readStream(\"01_bronze.bridge_temperature\")\n",
    "            .withColumn(\"event_time\", col(\"event_time\").cast(\"timestamp\"))\n",
    "            .withColumnRenamed(\"device_id\", \"bridge_id\")\n",
    "            .select(\n",
    "                col(\"bridge_id\"), col(\"event_time\"), col(\"temperature\")\n",
    "            )\n",
    "    )"
   ]
  },
  {
   "cell_type": "markdown",
   "metadata": {
    "application/vnd.databricks.v1+cell": {
     "cellMetadata": {},
     "inputWidgets": {},
     "nuid": "55624820-3996-4cee-b586-e2e14852d182",
     "showTitle": false,
     "tableResultSettingsMap": {},
     "title": ""
    }
   },
   "source": [
    "### Bridge Vibration (Streaming Table)"
   ]
  },
  {
   "cell_type": "code",
   "execution_count": 0,
   "metadata": {
    "application/vnd.databricks.v1+cell": {
     "cellMetadata": {},
     "inputWidgets": {},
     "nuid": "c86b0ebc-502e-458a-8a7d-a0ddbff252c3",
     "showTitle": false,
     "tableResultSettingsMap": {},
     "title": ""
    }
   },
   "outputs": [],
   "source": [
    "@dlt.table(name=\"02_silver.bridge_vibration\", comment=\"Vibration cleaned\")\n",
    "@dlt.expect_or_drop(\"valid_event_time\", \"event_time IS NOT NULL\")\n",
    "@dlt.expect(\"valid_vibration_range\", \"vibration BETWEEN 0 AND 0.1\")\n",
    "def silver_bridge_vibration():\n",
    "    return (\n",
    "        dlt.readStream(\"01_bronze.bridge_vibration\")\n",
    "            .withColumn(\"event_time\", col(\"event_time\").cast(\"timestamp\"))\n",
    "            .withColumnRenamed(\"device_id\", \"bridge_id\")\n",
    "            .select(\n",
    "                col(\"bridge_id\"), col(\"event_time\"), col(\"vibration\")\n",
    "            )\n",
    "    )"
   ]
  },
  {
   "cell_type": "markdown",
   "metadata": {
    "application/vnd.databricks.v1+cell": {
     "cellMetadata": {},
     "inputWidgets": {},
     "nuid": "a8f65860-c58e-497a-9691-e3b917dcb0eb",
     "showTitle": false,
     "tableResultSettingsMap": {},
     "title": ""
    }
   },
   "source": [
    "### Bridge Tilt (Streaming Table)"
   ]
  },
  {
   "cell_type": "code",
   "execution_count": 0,
   "metadata": {
    "application/vnd.databricks.v1+cell": {
     "cellMetadata": {},
     "inputWidgets": {},
     "nuid": "cf2e3c70-794c-4666-8599-737ad1d6ee73",
     "showTitle": false,
     "tableResultSettingsMap": {},
     "title": ""
    }
   },
   "outputs": [],
   "source": [
    "@dlt.table(name=\"02_silver.bridge_tilt\", comment=\"Tile angle cleaned\")\n",
    "@dlt.expect_or_drop(\"valid_event_time\", \"event_time IS NOT NULL\")\n",
    "@dlt.expect(\"valid_tilt_range\", \"tilt_angle BETWEEN -0.005 AND 0.005\")\n",
    "def silver_bridge_tilt():\n",
    "    return (\n",
    "        dlt.readStream(\"01_bronze.bridge_tilt\")\n",
    "            .withColumn(\"event_time\", col(\"event_time\").cast(\"timestamp\"))\n",
    "            .withColumnRenamed(\"device_id\", \"bridge_id\")\n",
    "            .select(\n",
    "                col(\"bridge_id\"), col(\"event_time\"), col(\"tilt_angle\")\n",
    "            )\n",
    "    )"
   ]
  }
 ],
 "metadata": {
  "application/vnd.databricks.v1+notebook": {
   "computePreferences": {
    "hardware": {
     "accelerator": null,
     "gpuPoolId": null,
     "memory": null
    }
   },
   "dashboards": [],
   "environmentMetadata": {
    "base_environment": "",
    "environment_version": "3"
   },
   "inputWidgetPreferences": null,
   "language": "python",
   "notebookMetadata": {
    "pythonIndentUnit": 4
   },
   "notebookName": "02_silver_processing",
   "widgets": {}
  },
  "language_info": {
   "name": "python"
  }
 },
 "nbformat": 4,
 "nbformat_minor": 0
}
