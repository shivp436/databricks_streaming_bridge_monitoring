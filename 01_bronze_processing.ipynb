{
 "cells": [
  {
   "cell_type": "code",
   "execution_count": 0,
   "metadata": {
    "application/vnd.databricks.v1+cell": {
     "cellMetadata": {},
     "inputWidgets": {},
     "nuid": "417b34b6-7677-4429-a596-af41cf7980ec",
     "showTitle": false,
     "tableResultSettingsMap": {},
     "title": ""
    }
   },
   "outputs": [],
   "source": [
    "import dlt\n",
    "\n",
    "# Raw ingestion of three delta streams\n",
    "\n",
    "@dlt.table(name=\"01_bronze.bridge_temperature\", comment=\"Raw temperature readings\")\n",
    "def bronze_bridge_temperature():\n",
    "    return (\n",
    "        spark.readStream\n",
    "            .format(\"delta\")\n",
    "            .load(\"/Volumes/bridge_monitoring/00_landing/streaming/bridge_temperature\")\n",
    "    )\n",
    "\n",
    "@dlt.table(name=\"01_bronze.bridge_vibration\", comment=\"Raw vibration readings\")\n",
    "def bronze_bridge_vibration():\n",
    "    return (\n",
    "        spark.readStream\n",
    "            .format(\"delta\")\n",
    "            .load(\"/Volumes/bridge_monitoring/00_landing/streaming/bridge_vibration\")\n",
    "    )\n",
    "\n",
    "@dlt.table(name=\"01_bronze.bridge_tilt\", comment=\"Raw tilt-angle readings\")\n",
    "def bronze_bridge_tilt():\n",
    "    return (\n",
    "        spark.readStream\n",
    "            .format(\"delta\")\n",
    "            .load(\"/Volumes/bridge_monitoring/00_landing/streaming/bridge_tilt\")\n",
    "    )"
   ]
  }
 ],
 "metadata": {
  "application/vnd.databricks.v1+notebook": {
   "computePreferences": null,
   "dashboards": [],
   "environmentMetadata": {
    "base_environment": "",
    "environment_version": "3"
   },
   "inputWidgetPreferences": null,
   "language": "python",
   "notebookMetadata": {
    "pythonIndentUnit": 4
   },
   "notebookName": "01_bronze_processing",
   "widgets": {}
  },
  "language_info": {
   "name": "python"
  }
 },
 "nbformat": 4,
 "nbformat_minor": 0
}
